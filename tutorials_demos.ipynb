{
 "cells": [
  {
   "cell_type": "markdown",
   "id": "3a005f16",
   "metadata": {},
   "source": [
    "Run the demos\n",
    "=============\n",
    "\n",
    "**Install optional dependencies**\n",
    "\n",
    "In order to run the demos, you may need to install per domain dependencies:\n",
    "\n",
    "* For AI demos: `pip install -r requirements-ai.txt`\n",
    "* For audio demos: `pip install -r requirements-audio.txt`\n",
    "\n",
    "**Standard demos**\n",
    "\n",
    "Several demos are available in the src/python/fiatlight/demos folder:"
   ]
  },
  {
   "cell_type": "code",
   "execution_count": 1,
   "id": "e44aaab3",
   "metadata": {},
   "outputs": [
    {
     "name": "stdout",
     "output_type": "stream",
     "text": [
      "\u001b[1;36m../demos/\u001b[0m\n",
      "├── \u001b[1;36mai\u001b[0m\n",
      "│   ├── demo_sdxl_meme.py\n",
      "│   └── demo_sdxl_toon_edges.py\n",
      "├── \u001b[1;36maudio\u001b[0m\n",
      "│   ├── demo_audio_processing_link.py\n",
      "│   ├── microphone_gui_demo_link.py\n",
      "│   └── sound_wave_player_gui_demo_link.py\n",
      "├── \u001b[1;36mcustom_graph\u001b[0m\n",
      "│   └── demo_custom_graph.py\n",
      "├── \u001b[1;36mhello_rosetta\u001b[0m\n",
      "│   ├── example_validation.py\n",
      "│   └── hello_rosetta.py\n",
      "├── \u001b[1;36mimages\u001b[0m\n",
      "│   ├── demo_computer_vision.py\n",
      "│   ├── demo_oil_paint.py\n",
      "│   ├── old_school_meme.py\n",
      "│   ├── opencv_wrappers.py\n",
      "│   └── toon_edges.py\n",
      "├── \u001b[1;36mmath\u001b[0m\n",
      "│   ├── demo_binomial.py\n",
      "│   ├── demo_float_functions.py\n",
      "│   ├── demo_plot_array.py\n",
      "│   └── demo_plot_manual_present.py\n",
      "├── \u001b[1;36mplots\u001b[0m\n",
      "│   └── demo_matplotlib.py\n",
      "└── \u001b[1;36mstring\u001b[0m\n",
      "    ├── demo_word_count.py\n",
      "    └── str_functions.py\n",
      "\n"
     ]
    }
   ],
   "source": [
    "%%bash\n",
    "tree -I \"__pycache__|fiat_settings|priv_experiments|fonts|__init__.py\" ../demos/ | grep -v directories"
   ]
  },
  {
   "cell_type": "markdown",
   "id": "b7e4fcf9",
   "metadata": {},
   "source": [
    "**Notebook demos**\n",
    "\n",
    "You can also run all the demos that are present in the documentation (there are a lot of interesting demos, together with screenshots)\n",
    "\n",
    "- install Jupyter: `pip install jupyter`\n",
    "- Launch Jupyter with the following command: `jupyter lab`\n",
    "- After Jupyter is launched, a browser page will open: navigate to the \"src/python/fiatlight/doc\" folder to find the demos.\n",
    "\n",
    "Here are the most interesting demos notebooks:\n",
    "\n",
    "* [`intro.ipynb`](intro.ipynb): *Introduction to the library*\n",
    "* [`function_with_gui.ipynb`](function_with_gui.ipynb): *How to customize the GUI of a function*\n",
    "* [`fiat_togui.ipynb`](fiat_togui.ipynb): *How to create custom widgets*\n",
    "* [`functions_graph.ipynb`](functions_graph.ipynb): *How to create a graph of functions*"
   ]
  }
 ],
 "metadata": {
  "kernelspec": {
   "display_name": "v312",
   "language": "python",
   "name": "python3"
  },
  "language_info": {
   "codemirror_mode": {
    "name": "ipython",
    "version": 3
   },
   "file_extension": ".py",
   "mimetype": "text/x-python",
   "name": "python",
   "nbconvert_exporter": "python",
   "pygments_lexer": "ipython3",
   "version": "3.12.0"
  }
 },
 "nbformat": 4,
 "nbformat_minor": 5
}
