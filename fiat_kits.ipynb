{
 "cells": [
  {
   "cell_type": "markdown",
   "id": "b56de86c",
   "metadata": {},
   "source": [
    "Fiatlight Kits\n",
    "==============\n",
    "\n",
    "Fiatlight offers several kits adapted to different domains.\n",
    "\n",
    "* [`fiat_image`](fiat_image.ipynb): advanced image widget\n",
    "* [`fiat_matplotlib`](fiat_matplotlib.ipynb): widget to view matplotlib plots  (zoomable)\n",
    "* [`fiat_dataframe`](fiat_dataframe.ipynb): widget to explore pandas dataframes\n",
    "* [`fiat_implot`](fiat_implot.ipynb): widget to explore 1D and 2D numpy arrays with [ImPlot](https://github.com/epezent/implot)"
   ]
  }
 ],
 "metadata": {},
 "nbformat": 4,
 "nbformat_minor": 5
}
