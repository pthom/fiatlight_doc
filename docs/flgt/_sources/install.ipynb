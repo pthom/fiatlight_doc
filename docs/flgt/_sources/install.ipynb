{
 "cells": [
  {
   "cell_type": "markdown",
   "id": "cbc5a74c",
   "metadata": {},
   "source": [
    "Installation\n",
    "============\n",
    "\n",
    "Installation from source\n",
    "------------------------"
   ]
  },
  {
   "cell_type": "code",
   "execution_count": null,
   "id": "e1482f52",
   "metadata": {},
   "outputs": [],
   "source": [
    "%%bash\n",
    "\n",
    "git clone https://github.com/pthom/fiatlight.git\n",
    "cd fiatlight\n",
    "\n",
    "# Optional: create a virtual environment\n",
    "# (you can use whichever method you prefer)\n",
    "python3 -m venv venv\n",
    "source venv/bin/activate\n",
    "\n",
    "pip install -r requirements.txt\n",
    "pip install -v -e ."
   ]
  },
  {
   "cell_type": "markdown",
   "id": "4195daa8",
   "metadata": {},
   "source": [
    "Install imgui-bundle (from the main branch)\n",
    "-------------------------------------------\n",
    "\n",
    "Fiatlight relies on imgui-bundle, and will depend on the latest version on the main branch (version 1.5.2 from pypi is not sufficient).\n",
    "\n",
    "To install it, you can\n",
    "- either clone it and install it from source:"
   ]
  },
  {
   "cell_type": "code",
   "execution_count": null,
   "id": "4af508b2",
   "metadata": {},
   "outputs": [],
   "source": [
    "git clone https://github.com/pthom/imgui_bundle.git\n",
    "cd imgui_bundle\n",
    "git submodule update --init --recursive # (1)\n",
    "pip install -v . # (2)\n",
    "pip install opencv-python\n",
    "pip install pyGLM"
   ]
  },
  {
   "cell_type": "markdown",
   "id": "b7575291",
   "metadata": {},
   "source": [
    "- or download pre-compiled recent wheels from here: https://github.com/pthom/imgui_bundle/actions/workflows/wheels.yml\n",
    "\n",
    "\n",
    "Installation from PyPI\n",
    "----------------------"
   ]
  },
  {
   "cell_type": "code",
   "execution_count": null,
   "id": "c888466f",
   "metadata": {},
   "outputs": [],
   "source": [
    "# Not available yet"
   ]
  },
  {
   "cell_type": "markdown",
   "id": "78bb3279",
   "metadata": {},
   "source": [
    "Install optional dependencies\n",
    "-----------------------------\n",
    "\n",
    "Several requirements files are provided, which you can install via `pip install -r requirements-<name>.txt`:\n",
    "\n",
    "* requirements.txt: basic requirements\n",
    "* requirements-ai.txt: requirements for AI demos\n",
    "* requirements-audio.txt: requirements for audio demos\n",
    "* requirements-dev.txt: requirements for development\n",
    "\n",
    "Note: for AI demos, you will have to install torch manually, as its installation is dependent on your system configuration.\n",
    "See https://pytorch.org/get-started/locally/ (you will of course need a GPU to run the demos)"
   ]
  }
 ],
 "metadata": {
  "language_info": {
   "name": "python"
  }
 },
 "nbformat": 4,
 "nbformat_minor": 5
}
