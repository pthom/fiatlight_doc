{
 "cells": [
  {
   "cell_type": "markdown",
   "id": "cbc5a74c",
   "metadata": {},
   "source": [
    "Installation\n",
    "============\n",
    "\n",
    "Installation from source\n",
    "------------------------"
   ]
  },
  {
   "cell_type": "code",
   "execution_count": null,
   "id": "e1482f52",
   "metadata": {},
   "outputs": [],
   "source": [
    "%%bash\n",
    "\n",
    "git clone https://github.com/pthom/fiatlight.git --branch refact_io\n",
    "cd fiatlight\n",
    "\n",
    "# Optional: create a virtual environment\n",
    "# (you can use whichever method you prefer)\n",
    "python3 -m venv venv\n",
    "source venv/bin/activate\n",
    "\n",
    "pip install -r requirements.txt\n",
    "pip install -v -e ."
   ]
  },
  {
   "cell_type": "markdown",
   "id": "4195daa8",
   "metadata": {},
   "source": [
    "Installation from PyPI\n",
    "----------------------"
   ]
  },
  {
   "cell_type": "code",
   "execution_count": null,
   "id": "4af508b2",
   "metadata": {},
   "outputs": [],
   "source": [
    "# To be done"
   ]
  },
  {
   "cell_type": "markdown",
   "id": "b7575291",
   "metadata": {},
   "source": [
    "Install optional dependencies\n",
    "-----------------------------\n",
    "\n",
    "Several requirements files are provided, which you can install via `pip install -r requirements-<name>.txt`:\n",
    "\n",
    "* requirements.txt: basic requirements\n",
    "* requirements-ai.txt: requirements for AI demos\n",
    "* requirements-audio.txt: requirements for audio demos\n",
    "* requirements-dev.txt: requirements for development"
   ]
  }
 ],
 "metadata": {
  "language_info": {
   "name": "python"
  }
 },
 "nbformat": 4,
 "nbformat_minor": 5
}
