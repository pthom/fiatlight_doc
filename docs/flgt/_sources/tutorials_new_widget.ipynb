{
 "cells": [
  {
   "cell_type": "markdown",
   "id": "16940284",
   "metadata": {},
   "source": [
    "How to create a fully customizable new widget.\n",
    "=============================================\n",
    "\n",
    "fiat_kit_skeleton\n",
    "-----------------\n",
    "\n",
    "[fiatlight.fiat_kits.fiat_skeleton](https://github.com/pthom/fiatlight/tree/refact_io/src/python/fiatlight/fiat_kits/fiat_kit_skeleton) is a starting point for creating new widgets: it is a minimalistic kit that contains the necessary files to create a new widget."
   ]
  },
  {
   "cell_type": "code",
   "execution_count": null,
   "id": "840b27e1",
   "metadata": {},
   "outputs": [],
   "source": [
    "fiat_kit_skeleton\n",
    "├── __init__.py\n",
    "├── mydata.py                      # An example data or library that you want to present\n",
    "├── mydata_presenter.py            # The presenter of the data\n",
    "|                                  # Also contains a derivate of PossibleCustomAttributes\n",
    "|                                  # where all the custom attributes are defined\n",
    "|\n",
    "└── mydata_with_gui.py             # MyDataWithGui: the widget that will be displayed in the GUI\n",
    "                                   # (inherits from AnyDataWithGui, implements all the callbacks\n",
    "                                   #  of AnyDataGuiCallbacks, and uses MyDataPresenter for\n",
    "                                   # complex data presentation)"
   ]
  },
  {
   "cell_type": "markdown",
   "id": "70b4b230",
   "metadata": {},
   "source": [
    "See files:\n",
    "* [mydata.py](https://github.com/pthom/fiatlight/tree/refact_io/src/python/fiatlight/fiat_kits/fiat_kit_skeleton/mydata.py)\n",
    "* [mydata_presenter.py](https://github.com/pthom/fiatlight/tree/refact_io/src/python/fiatlight/fiat_kits/fiat_kit_skeleton/mydata_presenter.py)\n",
    "* [mydata_with_gui.py](https://github.com/pthom/fiatlight/tree/refact_io/src/python/fiatlight/fiat_kits/fiat_kit_skeleton/mydata_with_gui.py)\n",
    "\n",
    "\n",
    "fiat_kit_skeleton in action\n",
    "---------------------------\n",
    "\n",
    "[fiatlight.fiat_kits.fiat_dataframe](https://github.com/pthom/fiatlight/tree/refact_io/src/python/fiatlight/fiat_kits/fiat_dataframe) it was developed starting from the skeleton. It is a good example on how it can be customized."
   ]
  },
  {
   "cell_type": "code",
   "execution_count": null,
   "id": "57cfae2e",
   "metadata": {},
   "outputs": [],
   "source": [
    "fiat_dataframe\n",
    "├── dataframe_presenter.py                  # The presenter of the data (presentation code)\n",
    "|                                           # Also contains a derivate of PossibleCustomAttributes\n",
    "|\n",
    "├── dataframe_with_gui.py                   # The widget that will be displayed in the GUI\n",
    "|                                           # (inherits from AnyDataWithGui, implements all the callbacks\n",
    "|                                          #  of AnyDataGuiCallbacks, and uses DataFramePresenter for\n",
    "|                                          # complex data presentation)"
   ]
  },
  {
   "cell_type": "markdown",
   "id": "5b2518af",
   "metadata": {},
   "source": [
    "See files:\n",
    "\n",
    "* [dataframe_presenter.py](https://github.com/pthom/fiatlight/tree/refact_io/src/python/fiatlight/fiat_kits/fiat_dataframe/dataframe_presenter.py)\n",
    "* [dataframe_with_gui.py](https://github.com/pthom/fiatlight/tree/refact_io/src/python/fiatlight/fiat_kits/fiat_dataframe/dataframe_with_gui.py)"
   ]
  }
 ],
 "metadata": {
  "kernelspec": {
   "display_name": "v312",
   "language": "python",
   "name": "python3"
  },
  "language_info": {
   "codemirror_mode": {
    "name": "ipython",
    "version": 3
   },
   "file_extension": ".py",
   "mimetype": "text/x-python",
   "name": "python",
   "nbconvert_exporter": "python",
   "pygments_lexer": "ipython3",
   "version": "3.12.0"
  }
 },
 "nbformat": 4,
 "nbformat_minor": 5
}
