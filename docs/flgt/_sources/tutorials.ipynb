{
 "cells": [
  {
   "cell_type": "markdown",
   "id": "d64aeb95",
   "metadata": {},
   "source": [
    "Tutorials\n",
    "=========\n",
    "\n",
    "The tutorials are separated in several sections:\n",
    "\n",
    "- [First steps](tutorials_first.ipynb)\n",
    "- [Use functions with typed signatures](tutorials_signature.ipynb)\n",
    "- [Command line interface](tutorials_cli.ipynb)\n",
    "- [Advanced tutorials](tutorials_advanced.ipynb)\n",
    "- [Create a fully customizable new widget / kit (advanced)](tutorials_new_widget.ipynb)\n",
    "- [Run the demos](tutorials_demos.ipynb)"
   ]
  }
 ],
 "metadata": {
  "kernelspec": {
   "display_name": "v312",
   "language": "python",
   "name": "python3"
  },
  "language_info": {
   "name": "python",
   "version": "3.12.0"
  }
 },
 "nbformat": 4,
 "nbformat_minor": 5
}
