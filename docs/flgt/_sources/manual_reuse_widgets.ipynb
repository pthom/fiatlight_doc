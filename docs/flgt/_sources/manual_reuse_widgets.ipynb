{
 "cells": [
  {
   "cell_type": "markdown",
   "id": "efe3994a",
   "metadata": {},
   "source": [
    "Reuse Fiatlight widgets\n",
    "=======================\n",
    "\n",
    "Fiatlight widgets can be reused in your own applications created with [Dear ImGui Bundle](https://pthom.github.io/imgui_bundle/), not only in Fiatlight's functions graphs.\n",
    "\n",
    "To achieve this, you can use the `fl.immediate_edit` function, which is a simple way to create a GUI for editing a single value:\n",
    "it returns a tuple `(changed, new_value)` where `changed` is a boolean indicating whether the value was changed by the user, and `new_value` is the new value.\n",
    "\n",
    "\n",
    "Reuse a Pydantic model GUI in a standalone application\n",
    "-------------------------------------------------------\n",
    "In the example below, we use the `fl.immediate_edit` function to create a simple GUI for editing a Pydantic model.\n",
    "\n",
    "Since the model has a validator `fl.immediate_edit` will only return the new value if the validator passes, otherwise\n",
    "the user may continue to edit the value until it is valid.\n",
    "\n",
    "> See also: *complete doc for [pydantic and dataclasses GUI generation](manual_dataclass_models)*"
   ]
  },
  {
   "cell_type": "code",
   "execution_count": 3,
   "id": "6a813a65",
   "metadata": {},
   "outputs": [
    {
     "data": {
      "image/jpeg": "[encoded data removed]",
      "text/plain": [
       "<IPython.core.display.Image object>"
      ]
     },
     "metadata": {},
     "output_type": "display_data"
    }
   ],
   "source": [
    "import fiatlight as fl\n",
    "from pydantic import BaseModel\n",
    "from imgui_bundle import hello_imgui\n",
    "\n",
    "def all_caps_validator(value: str) -> str:\n",
    "    if value != value.upper():\n",
    "        raise ValueError(\"Name must be in all caps\")\n",
    "    return value\n",
    "\n",
    "@fl.base_model_with_gui_registration(\n",
    "    name__label=\"Name\",\n",
    "    age__label=\"Age\",\n",
    "    name__validator=all_caps_validator,\n",
    ")\n",
    "class MyModel(BaseModel):\n",
    "    name: str = \"REYNOLDS\"\n",
    "    age: int = 42\n",
    "\n",
    "MY_MODEL = MyModel()\n",
    "\n",
    "def gui():\n",
    "    global MY_MODEL\n",
    "    _changed, MY_MODEL = fl.immediate_edit(\"Who are you?\", MY_MODEL)\n",
    "\n",
    "hello_imgui.run(gui)"
   ]
  },
  {
   "cell_type": "markdown",
   "id": "655b5697",
   "metadata": {},
   "source": [
    "Reuse a basic widget in a standalone application\n",
    "------------------------------------------------\n",
    "\n",
    "In the example below, we use the `fl.immediate_edit` function to create a simple GUI for editing an integer and a float value.\n",
    "\n",
    "We use fiat_attributes to customize the widgets."
   ]
  },
  {
   "cell_type": "code",
   "execution_count": 4,
   "id": "184a572e",
   "metadata": {},
   "outputs": [
    {
     "data": {
      "image/jpeg": "[encoded data removed]",
      "text/plain": [
       "<IPython.core.display.Image object>"
      ]
     },
     "metadata": {},
     "output_type": "display_data"
    }
   ],
   "source": [
    "from imgui_bundle import hello_imgui\n",
    "import fiatlight as fl\n",
    "\n",
    "INT_VALUE = 42\n",
    "FLOAT_VALUE = 12.0\n",
    "\n",
    "def gui():\n",
    "    global INT_VALUE, FLOAT_VALUE, NAME, COMMENT\n",
    "\n",
    "    # Edit a simple value using fiatlight (here we edit an int)\n",
    "    _changed, INT_VALUE = fl.immediate_edit(\n",
    "        \"Value\",\n",
    "        INT_VALUE,\n",
    "        edit_type=\"slider\",\n",
    "        slider_logarithmic=True,\n",
    "        tooltip= \"Enter value\",\n",
    "        range=(1, 1000_000_000),\n",
    "    )\n",
    "\n",
    "    _, FLOAT_VALUE = fl.immediate_edit(\n",
    "        \"Value2\",  # Error: same label used twice (Fiatlight should raise an understandable error)\n",
    "        FLOAT_VALUE,\n",
    "        edit_type=\"knob\",\n",
    "        knob_steps=10,\n",
    "        range=(0, 100),\n",
    "        knob_size_em=5\n",
    "    )\n",
    "\n",
    "hello_imgui.run(gui)"
   ]
  },
  {
   "cell_type": "markdown",
   "id": "83465adf",
   "metadata": {},
   "source": []
  }
 ],
 "metadata": {
  "kernelspec": {
   "display_name": "v312_2",
   "language": "python",
   "name": "python3"
  },
  "language_info": {
   "codemirror_mode": {
    "name": "ipython",
    "version": 3
   },
   "file_extension": ".py",
   "mimetype": "text/x-python",
   "name": "python",
   "nbconvert_exporter": "python",
   "pygments_lexer": "ipython3",
   "version": "3.12.0"
  }
 },
 "nbformat": 4,
 "nbformat_minor": 5
}
