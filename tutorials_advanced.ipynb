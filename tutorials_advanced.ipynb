{
 "cells": [
  {
   "cell_type": "markdown",
   "id": "893122e4",
   "metadata": {},
   "source": [
    "Advanced Tutorials\n",
    "==================\n",
    "\n",
    "This documentation is full of advanced tutorials throughout the different pages. Below are some of the interesting tutorials you may find.\n",
    "\n",
    "Before diving into those tutorials, it was advised to continue reading the rest of this page, notably to learn about the `fiatlight` command line utility.\n",
    "\n",
    "**Creating a complex graph of functions**\n",
    "\n",
    "Look at the page [FunctionsGraph](functions_graph.ipynb), where you will find several tutorials on the following topics:\n",
    "* How to run an application in one line (when running a single function or a composition of functions)\n",
    "* How to create a complex graph of functions, with custom connections between the functions\n",
    "\n",
    "**Advanced customization of a function's Gui**\n",
    "\n",
    "Look at the page [FunctionWithGui](function_with_gui.ipynb), where you will find many tutorials on the following topics:\n",
    "* How to customize the GUI of the parameters: range, widget type, etc.\n",
    "* How to control the function behavior (is it asynchronous, is it a real-time live function, etc.)\n",
    "* How to create a function with an internal state (e.g., a counter, or a function that returns a live image from a camera)\n",
    "* How to debug a function when it raised an exception, by replaying and debugging its execution with the exact same parameters\n",
    "* How to use fiatlight to inspect the internal state of a function\n",
    "\n",
    "**Customize the widgets for the parameters presentation and edition**\n",
    "\n",
    "Look at the page [Gui Registry & Custom types](fiat_togui.ipynb), where you will find many tutorials on the following topics:\n",
    "* How to use predefined bounded numeric types (Float_0_1, etc.)\n",
    "* How to use file name types to get a Gui which provides file dialogs (for images, audio, text, etc.)\n",
    "* How to display a widget specialized for color edition\n",
    "* How to handle optional parameters\n",
    "* How to handle lists\n",
    "* How to automatically create a Gui for enum types\n",
    "* How to automatically create a Gui for dataclasses\n",
    "* How to automatically create a Gui for pydantic models\n",
    "* How to create fully customized widgets for certain types (e.g. a sound player, a widget that displays a plot, a camera widget, etc.)"
   ]
  }
 ],
 "metadata": {
  "language_info": {
   "name": "python"
  }
 },
 "nbformat": 4,
 "nbformat_minor": 5
}
