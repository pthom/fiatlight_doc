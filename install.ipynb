{
 "cells": [
  {
   "cell_type": "markdown",
   "id": "cbc5a74c",
   "metadata": {},
   "source": [
    "Installation\n",
    "============\n",
    "\n",
    "At the moment, the recommended way to install fiatlight is from source:"
   ]
  },
  {
   "cell_type": "code",
   "execution_count": null,
   "id": "e1482f52",
   "metadata": {},
   "outputs": [],
   "source": [
    "git clone https://github.com/pthom/fiatlight.git\n",
    "cd fiatlight\n",
    "\n",
    "pip install -r requirements.txt\n",
    "pip install -v -e ."
   ]
  },
  {
   "cell_type": "markdown",
   "id": "4195daa8",
   "metadata": {},
   "source": [
    "Install optional dependencies\n",
    "-----------------------------\n",
    "\n",
    "Several requirements files are provided, which you can install via `pip install -r requirements-<name>.txt`:\n",
    "\n",
    "* requirements.txt: basic requirements\n",
    "* requirements-ai.txt: requirements for AI demos\n",
    "* requirements-audio.txt: requirements for audio demos\n",
    "* requirements-dev.txt: requirements for development\n",
    "\n",
    "Note: for AI demos, you may have to install pytorch manually."
   ]
  }
 ],
 "metadata": {
  "language_info": {
   "name": "python"
  }
 },
 "nbformat": 4,
 "nbformat_minor": 5
}
